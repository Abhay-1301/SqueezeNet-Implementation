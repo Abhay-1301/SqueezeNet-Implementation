{
 "cells": [
  {
   "cell_type": "code",
   "execution_count": 1,
   "metadata": {},
   "outputs": [],
   "source": [
    "import os\n",
    "import pandas as pd\n",
    "import numpy as np\n",
    "import tensorflow as tf\n",
    "from tensorflow.keras.preprocessing.image import load_img, img_to_array\n",
    "from sklearn.model_selection import train_test_split\n",
    "from keras.callbacks import EarlyStopping, ModelCheckpoint\n",
    "from keras.preprocessing import image\n",
    "from tensorflow.keras.layers import Input, Conv2D, BatchNormalization, Activation, Add, MaxPool2D, Dense, GlobalAveragePooling2D\n",
    "from keras.models import load_model"
   ]
  },
  {
   "cell_type": "code",
   "execution_count": 13,
   "metadata": {},
   "outputs": [],
   "source": [
    "def fire_module(x, squeeze_filters, expand_filters):\n",
    "    squeeze = tf.keras.layers.Conv2D(filters=squeeze_filters, kernel_size=1, activation='relu', padding='same')(x)\n",
    "    expand_1x1 = tf.keras.layers.Conv2D(filters=expand_filters, kernel_size=1, activation='relu', padding='same')(squeeze)\n",
    "    expand_3x3 = tf.keras.layers.Conv2D(filters=expand_filters, kernel_size=3, activation='relu', padding='same')(squeeze)\n",
    "    expand = tf.keras.layers.Concatenate()([expand_1x1, expand_3x3])\n",
    "    return expand\n",
    "\n",
    "def SqueezeNet(input_shape=(64, 64, 3), num_classes=7):\n",
    "    input = tf.keras.layers.Input(shape=input_shape)\n",
    "    x = tf.keras.layers.Conv2D(filters=64, kernel_size=3, strides=2, activation='relu', padding='same')(input)\n",
    "    x = tf.keras.layers.MaxPooling2D(pool_size=3, strides=2)(x)\n",
    "    x = fire_module(x, squeeze_filters=16, expand_filters=64)\n",
    "    x = fire_module(x, squeeze_filters=16, expand_filters=64)\n",
    "    x = tf.keras.layers.MaxPooling2D(pool_size=3, strides=2)(x)\n",
    "    x = fire_module(x, squeeze_filters=32, expand_filters=128)\n",
    "    x = fire_module(x, squeeze_filters=32, expand_filters=128)\n",
    "    x = tf.keras.layers.MaxPooling2D(pool_size=3, strides=2)(x)\n",
    "    x = fire_module(x, squeeze_filters=48, expand_filters=192)\n",
    "    x = fire_module(x, squeeze_filters=48, expand_filters=192)\n",
    "    x = fire_module(x, squeeze_filters=64, expand_filters=256)\n",
    "    x = fire_module(x, squeeze_filters=64, expand_filters=256)\n",
    "    x = tf.keras.layers.Dropout(0.5)(x)\n",
    "    x = tf.keras.layers.Conv2D(filters=num_classes, kernel_size=1, activation='relu', padding='valid')(x)\n",
    "    x = tf.keras.layers.GlobalAveragePooling2D()(x)\n",
    "    output = tf.keras.layers.Activation('softmax')(x)\n",
    "    model = tf.keras.Model(inputs=input, outputs=output)\n",
    "    return model\n",
    "\n",
    "# Define function to load and preprocess images\n",
    "def load_and_preprocess_image(image_path):\n",
    "    # Load image\n",
    "    img = load_img(image_path, target_size=(64, 64))\n",
    "    # Convert image to array\n",
    "    img_arr = img_to_array(img)\n",
    "    # Normalize pixel values\n",
    "    img_arr = img_arr / 255.0\n",
    "    # Return preprocessed image\n",
    "    return img_arr\n",
    "\n"
   ]
  },
  {
   "cell_type": "code",
   "execution_count": 3,
   "metadata": {},
   "outputs": [],
   "source": [
    "# Define paths to image directory and label csv file\n",
    "image_dir = 'Cell_Data/Cell_Images/cells'\n",
    "label_file = 'Cell_Data/label.csv'\n",
    "\n",
    "# Load label csv file\n",
    "labels_df = pd.read_csv(label_file)\n",
    "\n",
    "# Create lists to store image paths and labels\n",
    "image_paths = []\n",
    "labels = []\n",
    "\n",
    "# Loop over each row in the label csv file and extract image path and label\n",
    "for index, row in labels_df.iterrows():\n",
    "    image_name = row['image_name']\n",
    "    label = row['label']\n",
    "    image_path = os.path.join(image_dir, image_name)\n",
    "    image_paths.append(image_path)\n",
    "    labels.append(label)\n",
    "\n",
    "# Convert labels to numpy array\n",
    "labels = np.array(labels)\n",
    "\n",
    "# Split data into training and testing sets\n",
    "train_image_paths, test_image_paths, train_labels, test_labels = train_test_split(image_paths, labels, test_size=0.2, random_state=42)"
   ]
  },
  {
   "cell_type": "code",
   "execution_count": 4,
   "metadata": {},
   "outputs": [],
   "source": [
    "# Load and preprocess training images\n",
    "train_images = []\n",
    "for image_path in train_image_paths:\n",
    "    img = load_and_preprocess_image(image_path)\n",
    "    train_images.append(img)\n",
    "train_images = np.array(train_images)\n",
    "\n",
    "# Load and preprocess testing images\n",
    "test_images = []\n",
    "for image_path in test_image_paths:\n",
    "    img = load_and_preprocess_image(image_path)\n",
    "    test_images.append(img)\n",
    "test_images = np.array(test_images)"
   ]
  },
  {
   "cell_type": "code",
   "execution_count": 14,
   "metadata": {},
   "outputs": [
    {
     "name": "stdout",
     "output_type": "stream",
     "text": [
      "Model: \"model_3\"\n",
      "__________________________________________________________________________________________________\n",
      " Layer (type)                   Output Shape         Param #     Connected to                     \n",
      "==================================================================================================\n",
      " input_4 (InputLayer)           [(None, 64, 64, 3)]  0           []                               \n",
      "                                                                                                  \n",
      " conv2d_78 (Conv2D)             (None, 32, 32, 64)   1792        ['input_4[0][0]']                \n",
      "                                                                                                  \n",
      " max_pooling2d_9 (MaxPooling2D)  (None, 15, 15, 64)  0           ['conv2d_78[0][0]']              \n",
      "                                                                                                  \n",
      " conv2d_79 (Conv2D)             (None, 15, 15, 16)   1040        ['max_pooling2d_9[0][0]']        \n",
      "                                                                                                  \n",
      " conv2d_80 (Conv2D)             (None, 15, 15, 64)   1088        ['conv2d_79[0][0]']              \n",
      "                                                                                                  \n",
      " conv2d_81 (Conv2D)             (None, 15, 15, 64)   9280        ['conv2d_79[0][0]']              \n",
      "                                                                                                  \n",
      " concatenate_24 (Concatenate)   (None, 15, 15, 128)  0           ['conv2d_80[0][0]',              \n",
      "                                                                  'conv2d_81[0][0]']              \n",
      "                                                                                                  \n",
      " conv2d_82 (Conv2D)             (None, 15, 15, 16)   2064        ['concatenate_24[0][0]']         \n",
      "                                                                                                  \n",
      " conv2d_83 (Conv2D)             (None, 15, 15, 64)   1088        ['conv2d_82[0][0]']              \n",
      "                                                                                                  \n",
      " conv2d_84 (Conv2D)             (None, 15, 15, 64)   9280        ['conv2d_82[0][0]']              \n",
      "                                                                                                  \n",
      " concatenate_25 (Concatenate)   (None, 15, 15, 128)  0           ['conv2d_83[0][0]',              \n",
      "                                                                  'conv2d_84[0][0]']              \n",
      "                                                                                                  \n",
      " max_pooling2d_10 (MaxPooling2D  (None, 7, 7, 128)   0           ['concatenate_25[0][0]']         \n",
      " )                                                                                                \n",
      "                                                                                                  \n",
      " conv2d_85 (Conv2D)             (None, 7, 7, 32)     4128        ['max_pooling2d_10[0][0]']       \n",
      "                                                                                                  \n",
      " conv2d_86 (Conv2D)             (None, 7, 7, 128)    4224        ['conv2d_85[0][0]']              \n",
      "                                                                                                  \n",
      " conv2d_87 (Conv2D)             (None, 7, 7, 128)    36992       ['conv2d_85[0][0]']              \n",
      "                                                                                                  \n",
      " concatenate_26 (Concatenate)   (None, 7, 7, 256)    0           ['conv2d_86[0][0]',              \n",
      "                                                                  'conv2d_87[0][0]']              \n",
      "                                                                                                  \n",
      " conv2d_88 (Conv2D)             (None, 7, 7, 32)     8224        ['concatenate_26[0][0]']         \n",
      "                                                                                                  \n",
      " conv2d_89 (Conv2D)             (None, 7, 7, 128)    4224        ['conv2d_88[0][0]']              \n",
      "                                                                                                  \n",
      " conv2d_90 (Conv2D)             (None, 7, 7, 128)    36992       ['conv2d_88[0][0]']              \n",
      "                                                                                                  \n",
      " concatenate_27 (Concatenate)   (None, 7, 7, 256)    0           ['conv2d_89[0][0]',              \n",
      "                                                                  'conv2d_90[0][0]']              \n",
      "                                                                                                  \n",
      " max_pooling2d_11 (MaxPooling2D  (None, 3, 3, 256)   0           ['concatenate_27[0][0]']         \n",
      " )                                                                                                \n",
      "                                                                                                  \n",
      " conv2d_91 (Conv2D)             (None, 3, 3, 48)     12336       ['max_pooling2d_11[0][0]']       \n",
      "                                                                                                  \n",
      " conv2d_92 (Conv2D)             (None, 3, 3, 192)    9408        ['conv2d_91[0][0]']              \n",
      "                                                                                                  \n",
      " conv2d_93 (Conv2D)             (None, 3, 3, 192)    83136       ['conv2d_91[0][0]']              \n",
      "                                                                                                  \n",
      " concatenate_28 (Concatenate)   (None, 3, 3, 384)    0           ['conv2d_92[0][0]',              \n",
      "                                                                  'conv2d_93[0][0]']              \n",
      "                                                                                                  \n",
      " conv2d_94 (Conv2D)             (None, 3, 3, 48)     18480       ['concatenate_28[0][0]']         \n",
      "                                                                                                  \n",
      " conv2d_95 (Conv2D)             (None, 3, 3, 192)    9408        ['conv2d_94[0][0]']              \n",
      "                                                                                                  \n",
      " conv2d_96 (Conv2D)             (None, 3, 3, 192)    83136       ['conv2d_94[0][0]']              \n",
      "                                                                                                  \n",
      " concatenate_29 (Concatenate)   (None, 3, 3, 384)    0           ['conv2d_95[0][0]',              \n",
      "                                                                  'conv2d_96[0][0]']              \n",
      "                                                                                                  \n",
      " conv2d_97 (Conv2D)             (None, 3, 3, 64)     24640       ['concatenate_29[0][0]']         \n",
      "                                                                                                  \n",
      " conv2d_98 (Conv2D)             (None, 3, 3, 256)    16640       ['conv2d_97[0][0]']              \n",
      "                                                                                                  \n",
      " conv2d_99 (Conv2D)             (None, 3, 3, 256)    147712      ['conv2d_97[0][0]']              \n",
      "                                                                                                  \n",
      " concatenate_30 (Concatenate)   (None, 3, 3, 512)    0           ['conv2d_98[0][0]',              \n",
      "                                                                  'conv2d_99[0][0]']              \n",
      "                                                                                                  \n",
      " conv2d_100 (Conv2D)            (None, 3, 3, 64)     32832       ['concatenate_30[0][0]']         \n",
      "                                                                                                  \n",
      " conv2d_101 (Conv2D)            (None, 3, 3, 256)    16640       ['conv2d_100[0][0]']             \n",
      "                                                                                                  \n",
      " conv2d_102 (Conv2D)            (None, 3, 3, 256)    147712      ['conv2d_100[0][0]']             \n",
      "                                                                                                  \n",
      " concatenate_31 (Concatenate)   (None, 3, 3, 512)    0           ['conv2d_101[0][0]',             \n",
      "                                                                  'conv2d_102[0][0]']             \n",
      "                                                                                                  \n",
      " dropout_3 (Dropout)            (None, 3, 3, 512)    0           ['concatenate_31[0][0]']         \n",
      "                                                                                                  \n",
      " conv2d_103 (Conv2D)            (None, 3, 3, 7)      3591        ['dropout_3[0][0]']              \n",
      "                                                                                                  \n",
      " global_average_pooling2d_3 (Gl  (None, 7)           0           ['conv2d_103[0][0]']             \n",
      " obalAveragePooling2D)                                                                            \n",
      "                                                                                                  \n",
      " activation_3 (Activation)      (None, 7)            0           ['global_average_pooling2d_3[0][0\n",
      "                                                                 ]']                              \n",
      "                                                                                                  \n",
      "==================================================================================================\n",
      "Total params: 726,087\n",
      "Trainable params: 726,087\n",
      "Non-trainable params: 0\n",
      "__________________________________________________________________________________________________\n"
     ]
    }
   ],
   "source": [
    "# Create the model\n",
    "model = SqueezeNet()\n",
    "model.compile(optimizer='adam', loss='sparse_categorical_crossentropy', metrics=['accuracy'])\n",
    "model.summary()"
   ]
  },
  {
   "cell_type": "code",
   "execution_count": 15,
   "metadata": {},
   "outputs": [
    {
     "name": "stdout",
     "output_type": "stream",
     "text": [
      "Epoch 1/20\n",
      "1269/1269 [==============================] - 123s 94ms/step - loss: 1.0646 - accuracy: 0.5557 - val_loss: 0.6573 - val_accuracy: 0.7625\n",
      "Epoch 2/20\n",
      "1269/1269 [==============================] - 113s 89ms/step - loss: 0.5892 - accuracy: 0.7805 - val_loss: 0.6248 - val_accuracy: 0.7648\n",
      "Epoch 3/20\n",
      "1269/1269 [==============================] - 108s 85ms/step - loss: 0.5042 - accuracy: 0.8162 - val_loss: 0.5404 - val_accuracy: 0.8077\n",
      "Epoch 4/20\n",
      "1269/1269 [==============================] - 108s 85ms/step - loss: 0.4509 - accuracy: 0.8342 - val_loss: 0.4527 - val_accuracy: 0.8342\n",
      "Epoch 5/20\n",
      "1269/1269 [==============================] - 115s 90ms/step - loss: 0.4126 - accuracy: 0.8500 - val_loss: 0.4923 - val_accuracy: 0.8150\n",
      "Epoch 6/20\n",
      "1269/1269 [==============================] - 112s 88ms/step - loss: 0.3785 - accuracy: 0.8633 - val_loss: 0.4467 - val_accuracy: 0.8388\n",
      "Epoch 7/20\n",
      "1269/1269 [==============================] - 123s 97ms/step - loss: 0.3610 - accuracy: 0.8687 - val_loss: 0.3794 - val_accuracy: 0.8632\n",
      "Epoch 8/20\n",
      "1269/1269 [==============================] - 112s 88ms/step - loss: 0.3489 - accuracy: 0.8709 - val_loss: 0.3590 - val_accuracy: 0.8702\n",
      "Epoch 9/20\n",
      "1269/1269 [==============================] - 109s 86ms/step - loss: 0.3181 - accuracy: 0.8841 - val_loss: 0.3364 - val_accuracy: 0.8769\n",
      "Epoch 10/20\n",
      "1269/1269 [==============================] - 109s 86ms/step - loss: 0.3123 - accuracy: 0.8864 - val_loss: 0.3981 - val_accuracy: 0.8543\n",
      "Epoch 11/20\n",
      "1269/1269 [==============================] - 106s 84ms/step - loss: 0.2933 - accuracy: 0.8943 - val_loss: 0.3803 - val_accuracy: 0.8700\n",
      "Epoch 12/20\n",
      "1269/1269 [==============================] - 107s 84ms/step - loss: 0.2761 - accuracy: 0.8996 - val_loss: 0.3880 - val_accuracy: 0.8679\n"
     ]
    }
   ],
   "source": [
    "# Define some callbacks\n",
    "early_stop = EarlyStopping(patience=3, monitor='val_loss')\n",
    "checkpointer = ModelCheckpoint(filepath='best_model.h5', save_best_only=True, monitor='val_loss')\n",
    "\n",
    "# Train the model\n",
    "history = model.fit(train_images, train_labels, epochs=20, batch_size=32, validation_split=0.2, callbacks=[early_stop, checkpointer])"
   ]
  },
  {
   "cell_type": "code",
   "execution_count": 16,
   "metadata": {},
   "outputs": [
    {
     "data": {
      "image/png": "[encoded data removed]",
      "text/plain": [
       "<Figure size 640x480 with 1 Axes>"
      ]
     },
     "metadata": {},
     "output_type": "display_data"
    }
   ],
   "source": [
    "from matplotlib import pyplot as plt\n",
    "\n",
    "plt.plot(history.history['accuracy'])\n",
    "plt.plot(history.history['val_accuracy'])\n",
    "plt.title('model accuracy')\n",
    "plt.ylabel('accuracy')\n",
    "plt.xlabel('epoch')\n",
    "plt.legend(['train', 'val'], loc='upper left')\n",
    "plt.show()"
   ]
  },
  {
   "cell_type": "code",
   "execution_count": 17,
   "metadata": {},
   "outputs": [
    {
     "data": {
      "image/png": "[encoded data removed]",
      "text/plain": [
       "<Figure size 640x480 with 1 Axes>"
      ]
     },
     "metadata": {},
     "output_type": "display_data"
    }
   ],
   "source": [
    "plt.plot(history.history['loss'])\n",
    "plt.plot(history.history['val_loss'])\n",
    "plt.title('model loss')\n",
    "plt.ylabel('loss')\n",
    "plt.xlabel('epoch')\n",
    "plt.legend(['train', 'val'], loc='upper left')\n",
    "plt.show()"
   ]
  },
  {
   "cell_type": "code",
   "execution_count": 18,
   "metadata": {},
   "outputs": [
    {
     "name": "stdout",
     "output_type": "stream",
     "text": [
      "397/397 [==============================] - 11s 26ms/step - loss: 0.3246 - accuracy: 0.8800\n",
      "Test loss: 0.3245784640312195\n",
      "Test accuracy: 0.8799747824668884\n"
     ]
    }
   ],
   "source": [
    "best_model = load_model('best_model.h5')\n",
    "\n",
    "# Evaluate the model on the testing set\n",
    "test_loss, test_accuracy = best_model.evaluate(test_images, test_labels)\n",
    "print('Test loss:', test_loss)\n",
    "print('Test accuracy:', test_accuracy)"
   ]
  },
  {
   "cell_type": "code",
   "execution_count": 20,
   "metadata": {},
   "outputs": [
    {
     "name": "stdout",
     "output_type": "stream",
     "text": [
      "397/397 [==============================] - 9s 23ms/step\n"
     ]
    }
   ],
   "source": [
    "result = model.predict(test_images,)"
   ]
  },
  {
   "cell_type": "code",
   "execution_count": 30,
   "metadata": {},
   "outputs": [
    {
     "name": "stdout",
     "output_type": "stream",
     "text": [
      "12689\n",
      "12689\n"
     ]
    }
   ],
   "source": [
    "result[0]\n",
    "y_test = np.argmax(result, axis=1)\n",
    "print(len(y_test))\n",
    "print(len(test_labels))"
   ]
  },
  {
   "cell_type": "code",
   "execution_count": 32,
   "metadata": {},
   "outputs": [
    {
     "name": "stdout",
     "output_type": "stream",
     "text": [
      "[[2570  227   31    0   32    0]\n",
      " [ 301 2432   56   20   64    1]\n",
      " [  48   36 2550   10   41    1]\n",
      " [   6  407  164 2163    2    3]\n",
      " [  97   26   20    0  862    2]\n",
      " [   7   14   41    2   50  403]]\n"
     ]
    }
   ],
   "source": [
    "from sklearn.metrics import confusion_matrix\n",
    "\n",
    "# Assume y_true and y_pred are the true and predicted labels, respectively\n",
    "y_true = test_labels\n",
    "y_pred = y_test\n",
    "\n",
    "# Get the confusion matrix\n",
    "cm = confusion_matrix(y_true, y_pred)\n",
    "print(cm)\n"
   ]
  },
  {
   "cell_type": "code",
   "execution_count": 34,
   "metadata": {},
   "outputs": [
    {
     "name": "stdout",
     "output_type": "stream",
     "text": [
      "Class 1\n",
      "True Positives (TP):  2570\n",
      "True Negatives (TN):  9370\n",
      "False Positives (FP):  459\n",
      "False Negatives (FN):  290\n",
      "Class 2\n",
      "True Positives (TP):  2432\n",
      "True Negatives (TN):  9105\n",
      "False Positives (FP):  710\n",
      "False Negatives (FN):  442\n",
      "Class 3\n",
      "True Positives (TP):  2550\n",
      "True Negatives (TN):  9691\n",
      "False Positives (FP):  312\n",
      "False Negatives (FN):  136\n",
      "Class 4\n",
      "True Positives (TP):  2163\n",
      "True Negatives (TN):  9912\n",
      "False Positives (FP):  32\n",
      "False Negatives (FN):  582\n",
      "Class 5\n",
      "True Positives (TP):  862\n",
      "True Negatives (TN):  11493\n",
      "False Positives (FP):  189\n",
      "False Negatives (FN):  145\n",
      "Class 6\n",
      "True Positives (TP):  403\n",
      "True Negatives (TN):  12165\n",
      "False Positives (FP):  7\n",
      "False Negatives (FN):  114\n"
     ]
    }
   ],
   "source": [
    "# Loop over the rows and columns of the confusion matrix to extract TP, TN, FP, and FN numbers for each class\n",
    "for i in range(len(cm)):\n",
    "    tp = cm[i,i]\n",
    "    fp = sum(cm[:,i]) - tp\n",
    "    fn = sum(cm[i,:]) - tp\n",
    "    tn = sum(sum(cm)) - tp - fp - fn\n",
    "    \n",
    "    print(f\"Class {i+1}\")\n",
    "    print(\"True Positives (TP): \", tp)\n",
    "    print(\"True Negatives (TN): \", tn)\n",
    "    print(\"False Positives (FP): \", fp)\n",
    "    print(\"False Negatives (FN): \", fn)"
   ]
  },
  {
   "cell_type": "code",
   "execution_count": null,
   "metadata": {},
   "outputs": [],
   "source": []
  }
 ],
 "metadata": {
  "kernelspec": {
   "display_name": "Python 3",
   "language": "python",
   "name": "python3"
  },
  "language_info": {
   "codemirror_mode": {
    "name": "ipython",
    "version": 3
   },
   "file_extension": ".py",
   "mimetype": "text/x-python",
   "name": "python",
   "nbconvert_exporter": "python",
   "pygments_lexer": "ipython3",
   "version": "3.10.3"
  },
  "orig_nbformat": 4
 },
 "nbformat": 4,
 "nbformat_minor": 2
}
