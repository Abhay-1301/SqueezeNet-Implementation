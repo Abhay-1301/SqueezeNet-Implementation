{
 "cells": [
  {
   "cell_type": "code",
   "execution_count": 1,
   "metadata": {},
   "outputs": [],
   "source": [
    "import os\n",
    "import pandas as pd\n",
    "import numpy as np\n",
    "import tensorflow as tf\n",
    "from tensorflow.keras.preprocessing.image import load_img, img_to_array\n",
    "from sklearn.model_selection import train_test_split\n",
    "from keras.callbacks import EarlyStopping, ModelCheckpoint\n",
    "from keras.preprocessing import image\n",
    "from tensorflow.keras.layers import Input, Conv3D, BatchNormalization, Activation, Add, MaxPool3D, Dense, GlobalAveragePooling3D\n",
    "from keras.models import load_model\n",
    "import nibabel as nib\n",
    "from scipy import ndimage"
   ]
  },
  {
   "cell_type": "code",
   "execution_count": 2,
   "metadata": {},
   "outputs": [],
   "source": [
    "def fire_module(x, squeeze_filters, expand_filters):\n",
    "    squeeze = tf.keras.layers.Conv3D(filters=squeeze_filters, kernel_size=1, activation='relu', padding='same')(x)\n",
    "    expand_1x1 = tf.keras.layers.Conv3D(filters=expand_filters, kernel_size=1, activation='relu', padding='same')(squeeze)\n",
    "    expand_3x3 = tf.keras.layers.Conv3D(filters=expand_filters, kernel_size=3, activation='relu', padding='same')(squeeze)\n",
    "    expand = tf.keras.layers.Concatenate()([expand_1x1, expand_3x3])\n",
    "    return expand\n",
    "\n",
    "def SqueezeNet(input_shape=(64, 64, 3), num_classes=2):\n",
    "    input = tf.keras.layers.Input(shape=input_shape)\n",
    "    x = tf.keras.layers.Conv3D(filters=64, kernel_size=3, strides=2, activation='relu', padding='same')(input)\n",
    "    x = tf.keras.layers.MaxPooling3D(pool_size=3, strides=2)(x)\n",
    "    x = fire_module(x, squeeze_filters=16, expand_filters=64)\n",
    "    x = fire_module(x, squeeze_filters=16, expand_filters=64)\n",
    "    x = tf.keras.layers.MaxPooling3D(pool_size=3, strides=2)(x)\n",
    "    x = fire_module(x, squeeze_filters=32, expand_filters=128)\n",
    "    x = fire_module(x, squeeze_filters=32, expand_filters=128)\n",
    "    x = tf.keras.layers.MaxPooling3D(pool_size=3, strides=2)(x)\n",
    "    x = fire_module(x, squeeze_filters=48, expand_filters=192)\n",
    "    x = fire_module(x, squeeze_filters=48, expand_filters=192)\n",
    "    x = fire_module(x, squeeze_filters=64, expand_filters=256)\n",
    "    x = fire_module(x, squeeze_filters=64, expand_filters=256)\n",
    "    x = tf.keras.layers.Dropout(0.5)(x)\n",
    "    x = tf.keras.layers.Conv3D(filters=num_classes, kernel_size=1, activation='relu', padding='valid')(x)\n",
    "    x = tf.keras.layers.GlobalAveragePooling3D()(x)\n",
    "    output = tf.keras.layers.Activation('softmax')(x)\n",
    "    model = tf.keras.Model(inputs=input, outputs=output)\n",
    "    return model\n",
    "\n",
    "def load_and_preprocess_image(path):\n",
    "    # load the .nii.gz file\n",
    "    img = nib.load(path)\n",
    "\n",
    "    # get the image data and header\n",
    "    img_data = img.get_fdata()\n",
    "    img_header = img.header\n",
    "\n",
    "    # resize the image to (96, 96, 96)\n",
    "    img_resized = ndimage.zoom(img_data, (96 / img_data.shape[0], 96 / img_data.shape[1], 96 / img_data.shape[2]), order=1)\n",
    "\n",
    "    # convert the image to an array and normalize it\n",
    "    img_array = np.asarray(img_resized, dtype=np.float32)\n",
    "    img_min = np.min(img_array)\n",
    "    img_max = np.max(img_array)\n",
    "    img_array_norm = (img_array - img_min) / (img_max - img_min)\n",
    "\n",
    "    return img_array_norm\n"
   ]
  },
  {
   "cell_type": "code",
   "execution_count": 3,
   "metadata": {},
   "outputs": [],
   "source": [
    "# Define paths to image directory and label csv file\n",
    "image_dir = 'Abide_Data'\n",
    "label_file = 'abide_label_niigz.csv'\n",
    "\n",
    "# Load label csv file\n",
    "labels_df = pd.read_csv(label_file)\n",
    "\n",
    "# Create lists to store image paths and labels\n",
    "image_paths = []\n",
    "labels = []\n",
    "\n",
    "# Loop over each row in the label csv file and extract image path and label\n",
    "for index, row in labels_df.iterrows():\n",
    "    image_name = row['image_name']\n",
    "    label = row['label']\n",
    "    image_path = os.path.join(image_dir, image_name)\n",
    "    image_paths.append(image_path)\n",
    "    labels.append(label)\n",
    "\n",
    "# Convert labels to numpy array\n",
    "labels = np.array(labels)\n",
    "\n",
    "# Split data into training and testing sets\n",
    "train_image_paths, test_image_paths, train_labels, test_labels = train_test_split(image_paths, labels, test_size=0.2, random_state=42)"
   ]
  },
  {
   "cell_type": "code",
   "execution_count": 4,
   "metadata": {},
   "outputs": [],
   "source": [
    "# Load and preprocess training images\n",
    "train_images = []\n",
    "for image_path in train_image_paths:\n",
    "    img = load_and_preprocess_image(image_path)\n",
    "    train_images.append(img)\n",
    "train_images = np.array(train_images)\n",
    "\n",
    "# Load and preprocess testing images\n",
    "test_images = []\n",
    "for image_path in test_image_paths:\n",
    "    img = load_and_preprocess_image(image_path)\n",
    "    test_images.append(img)\n",
    "test_images = np.array(test_images)"
   ]
  },
  {
   "cell_type": "code",
   "execution_count": 6,
   "metadata": {},
   "outputs": [
    {
     "name": "stdout",
     "output_type": "stream",
     "text": [
      "Model: \"model\"\n",
      "__________________________________________________________________________________________________\n",
      " Layer (type)                   Output Shape         Param #     Connected to                     \n",
      "==================================================================================================\n",
      " input_2 (InputLayer)           [(None, 96, 96, 96,  0           []                               \n",
      "                                 1)]                                                              \n",
      "                                                                                                  \n",
      " conv3d_1 (Conv3D)              (None, 48, 48, 48,   1792        ['input_2[0][0]']                \n",
      "                                64)                                                               \n",
      "                                                                                                  \n",
      " max_pooling3d (MaxPooling3D)   (None, 23, 23, 23,   0           ['conv3d_1[0][0]']               \n",
      "                                64)                                                               \n",
      "                                                                                                  \n",
      " conv3d_2 (Conv3D)              (None, 23, 23, 23,   1040        ['max_pooling3d[0][0]']          \n",
      "                                16)                                                               \n",
      "                                                                                                  \n",
      " conv3d_3 (Conv3D)              (None, 23, 23, 23,   1088        ['conv3d_2[0][0]']               \n",
      "                                64)                                                               \n",
      "                                                                                                  \n",
      " conv3d_4 (Conv3D)              (None, 23, 23, 23,   27712       ['conv3d_2[0][0]']               \n",
      "                                64)                                                               \n",
      "                                                                                                  \n",
      " concatenate (Concatenate)      (None, 23, 23, 23,   0           ['conv3d_3[0][0]',               \n",
      "                                128)                              'conv3d_4[0][0]']               \n",
      "                                                                                                  \n",
      " conv3d_5 (Conv3D)              (None, 23, 23, 23,   2064        ['concatenate[0][0]']            \n",
      "                                16)                                                               \n",
      "                                                                                                  \n",
      " conv3d_6 (Conv3D)              (None, 23, 23, 23,   1088        ['conv3d_5[0][0]']               \n",
      "                                64)                                                               \n",
      "                                                                                                  \n",
      " conv3d_7 (Conv3D)              (None, 23, 23, 23,   27712       ['conv3d_5[0][0]']               \n",
      "                                64)                                                               \n",
      "                                                                                                  \n",
      " concatenate_1 (Concatenate)    (None, 23, 23, 23,   0           ['conv3d_6[0][0]',               \n",
      "                                128)                              'conv3d_7[0][0]']               \n",
      "                                                                                                  \n",
      " max_pooling3d_1 (MaxPooling3D)  (None, 11, 11, 11,   0          ['concatenate_1[0][0]']          \n",
      "                                128)                                                              \n",
      "                                                                                                  \n",
      " conv3d_8 (Conv3D)              (None, 11, 11, 11,   4128        ['max_pooling3d_1[0][0]']        \n",
      "                                32)                                                               \n",
      "                                                                                                  \n",
      " conv3d_9 (Conv3D)              (None, 11, 11, 11,   4224        ['conv3d_8[0][0]']               \n",
      "                                128)                                                              \n",
      "                                                                                                  \n",
      " conv3d_10 (Conv3D)             (None, 11, 11, 11,   110720      ['conv3d_8[0][0]']               \n",
      "                                128)                                                              \n",
      "                                                                                                  \n",
      " concatenate_2 (Concatenate)    (None, 11, 11, 11,   0           ['conv3d_9[0][0]',               \n",
      "                                256)                              'conv3d_10[0][0]']              \n",
      "                                                                                                  \n",
      " conv3d_11 (Conv3D)             (None, 11, 11, 11,   8224        ['concatenate_2[0][0]']          \n",
      "                                32)                                                               \n",
      "                                                                                                  \n",
      " conv3d_12 (Conv3D)             (None, 11, 11, 11,   4224        ['conv3d_11[0][0]']              \n",
      "                                128)                                                              \n",
      "                                                                                                  \n",
      " conv3d_13 (Conv3D)             (None, 11, 11, 11,   110720      ['conv3d_11[0][0]']              \n",
      "                                128)                                                              \n",
      "                                                                                                  \n",
      " concatenate_3 (Concatenate)    (None, 11, 11, 11,   0           ['conv3d_12[0][0]',              \n",
      "                                256)                              'conv3d_13[0][0]']              \n",
      "                                                                                                  \n",
      " max_pooling3d_2 (MaxPooling3D)  (None, 5, 5, 5, 256  0          ['concatenate_3[0][0]']          \n",
      "                                )                                                                 \n",
      "                                                                                                  \n",
      " conv3d_14 (Conv3D)             (None, 5, 5, 5, 48)  12336       ['max_pooling3d_2[0][0]']        \n",
      "                                                                                                  \n",
      " conv3d_15 (Conv3D)             (None, 5, 5, 5, 192  9408        ['conv3d_14[0][0]']              \n",
      "                                )                                                                 \n",
      "                                                                                                  \n",
      " conv3d_16 (Conv3D)             (None, 5, 5, 5, 192  249024      ['conv3d_14[0][0]']              \n",
      "                                )                                                                 \n",
      "                                                                                                  \n",
      " concatenate_4 (Concatenate)    (None, 5, 5, 5, 384  0           ['conv3d_15[0][0]',              \n",
      "                                )                                 'conv3d_16[0][0]']              \n",
      "                                                                                                  \n",
      " conv3d_17 (Conv3D)             (None, 5, 5, 5, 48)  18480       ['concatenate_4[0][0]']          \n",
      "                                                                                                  \n",
      " conv3d_18 (Conv3D)             (None, 5, 5, 5, 192  9408        ['conv3d_17[0][0]']              \n",
      "                                )                                                                 \n",
      "                                                                                                  \n",
      " conv3d_19 (Conv3D)             (None, 5, 5, 5, 192  249024      ['conv3d_17[0][0]']              \n",
      "                                )                                                                 \n",
      "                                                                                                  \n",
      " concatenate_5 (Concatenate)    (None, 5, 5, 5, 384  0           ['conv3d_18[0][0]',              \n",
      "                                )                                 'conv3d_19[0][0]']              \n",
      "                                                                                                  \n",
      " conv3d_20 (Conv3D)             (None, 5, 5, 5, 64)  24640       ['concatenate_5[0][0]']          \n",
      "                                                                                                  \n",
      " conv3d_21 (Conv3D)             (None, 5, 5, 5, 256  16640       ['conv3d_20[0][0]']              \n",
      "                                )                                                                 \n",
      "                                                                                                  \n",
      " conv3d_22 (Conv3D)             (None, 5, 5, 5, 256  442624      ['conv3d_20[0][0]']              \n",
      "                                )                                                                 \n",
      "                                                                                                  \n",
      " concatenate_6 (Concatenate)    (None, 5, 5, 5, 512  0           ['conv3d_21[0][0]',              \n",
      "                                )                                 'conv3d_22[0][0]']              \n",
      "                                                                                                  \n",
      " conv3d_23 (Conv3D)             (None, 5, 5, 5, 64)  32832       ['concatenate_6[0][0]']          \n",
      "                                                                                                  \n",
      " conv3d_24 (Conv3D)             (None, 5, 5, 5, 256  16640       ['conv3d_23[0][0]']              \n",
      "                                )                                                                 \n",
      "                                                                                                  \n",
      " conv3d_25 (Conv3D)             (None, 5, 5, 5, 256  442624      ['conv3d_23[0][0]']              \n",
      "                                )                                                                 \n",
      "                                                                                                  \n",
      " concatenate_7 (Concatenate)    (None, 5, 5, 5, 512  0           ['conv3d_24[0][0]',              \n",
      "                                )                                 'conv3d_25[0][0]']              \n",
      "                                                                                                  \n",
      " dropout (Dropout)              (None, 5, 5, 5, 512  0           ['concatenate_7[0][0]']          \n",
      "                                )                                                                 \n",
      "                                                                                                  \n",
      " conv3d_26 (Conv3D)             (None, 5, 5, 5, 2)   1026        ['dropout[0][0]']                \n",
      "                                                                                                  \n",
      " global_average_pooling3d (Glob  (None, 2)           0           ['conv3d_26[0][0]']              \n",
      " alAveragePooling3D)                                                                              \n",
      "                                                                                                  \n",
      " activation (Activation)        (None, 2)            0           ['global_average_pooling3d[0][0]'\n",
      "                                                                 ]                                \n",
      "                                                                                                  \n",
      "==================================================================================================\n",
      "Total params: 1,829,442\n",
      "Trainable params: 1,829,442\n",
      "Non-trainable params: 0\n",
      "__________________________________________________________________________________________________\n"
     ]
    }
   ],
   "source": [
    "# Create the model\n",
    "model = SqueezeNet(input_shape=(96,96,96,1),num_classes=2)\n",
    "opt = tf.keras.optimizers.RMSprop(learning_rate = 0.005)\n",
    "model.compile(optimizer=opt, loss='sparse_categorical_crossentropy', metrics=['accuracy'])\n",
    "model.summary()"
   ]
  },
  {
   "cell_type": "code",
   "execution_count": 7,
   "metadata": {},
   "outputs": [
    {
     "name": "stdout",
     "output_type": "stream",
     "text": [
      "Epoch 1/20\n",
      "3/3 [==============================] - 109s 29s/step - loss: 0.7005 - accuracy: 0.4211 - val_loss: 0.6931 - val_accuracy: 0.4500\n",
      "Epoch 2/20\n",
      "3/3 [==============================] - 96s 28s/step - loss: 0.6931 - accuracy: 0.4474 - val_loss: 0.6931 - val_accuracy: 0.4500\n",
      "Epoch 3/20\n",
      "3/3 [==============================] - 96s 28s/step - loss: 0.6931 - accuracy: 0.4474 - val_loss: 0.6931 - val_accuracy: 0.4500\n",
      "Epoch 4/20\n",
      "3/3 [==============================] - 99s 29s/step - loss: 0.6931 - accuracy: 0.4474 - val_loss: 0.6931 - val_accuracy: 0.4500\n"
     ]
    }
   ],
   "source": [
    "# Define some callbacks\n",
    "early_stop = EarlyStopping(patience=3, monitor='val_loss')\n",
    "checkpointer = ModelCheckpoint(filepath='best_model_squeezenet_abide.h5', save_best_only=True, monitor='val_loss')\n",
    "# Train the model\n",
    "history = model.fit(train_images, train_labels, epochs=20, batch_size=32, validation_split=0.2, callbacks=[early_stop, checkpointer])"
   ]
  },
  {
   "cell_type": "code",
   "execution_count": 8,
   "metadata": {},
   "outputs": [
    {
     "data": {
      "image/png": "[encoded data removed]",
      "text/plain": [
       "<Figure size 640x480 with 1 Axes>"
      ]
     },
     "metadata": {},
     "output_type": "display_data"
    }
   ],
   "source": [
    "from matplotlib import pyplot as plt\n",
    "\n",
    "plt.plot(history.history['accuracy'])\n",
    "plt.plot(history.history['val_accuracy'])\n",
    "plt.title('model accuracy')\n",
    "plt.ylabel('accuracy')\n",
    "plt.xlabel('epoch')\n",
    "plt.legend(['train', 'val'], loc='upper left')\n",
    "plt.show()"
   ]
  },
  {
   "cell_type": "code",
   "execution_count": 9,
   "metadata": {},
   "outputs": [
    {
     "data": {
      "image/png": "[encoded data removed]",
      "text/plain": [
       "<Figure size 640x480 with 1 Axes>"
      ]
     },
     "metadata": {},
     "output_type": "display_data"
    }
   ],
   "source": [
    "plt.plot(history.history['loss'])\n",
    "plt.plot(history.history['val_loss'])\n",
    "plt.title('model loss')\n",
    "plt.ylabel('loss')\n",
    "plt.xlabel('epoch')\n",
    "plt.legend(['train', 'val'], loc='upper left')\n",
    "plt.show()"
   ]
  },
  {
   "cell_type": "code",
   "execution_count": 10,
   "metadata": {},
   "outputs": [
    {
     "name": "stdout",
     "output_type": "stream",
     "text": [
      "1/1 [==============================] - 4s 4s/step - loss: 0.6931 - accuracy: 0.6250\n",
      "Test loss: 0.6931471824645996\n",
      "Test accuracy: 0.625\n"
     ]
    }
   ],
   "source": [
    "best_model = load_model('best_model_squeezenet_abide.h5')\n",
    "\n",
    "# Evaluate the model on the testing set\n",
    "test_loss, test_accuracy = best_model.evaluate(test_images, test_labels)\n",
    "print('Test loss:', test_loss)\n",
    "print('Test accuracy:', test_accuracy)"
   ]
  },
  {
   "cell_type": "code",
   "execution_count": 11,
   "metadata": {},
   "outputs": [
    {
     "name": "stdout",
     "output_type": "stream",
     "text": [
      "1/1 [==============================] - 4s 4s/step\n"
     ]
    }
   ],
   "source": [
    "result = model.predict(test_images,)\n",
    "y_test = np.argmax(result, axis=1)"
   ]
  },
  {
   "cell_type": "code",
   "execution_count": 12,
   "metadata": {},
   "outputs": [
    {
     "name": "stdout",
     "output_type": "stream",
     "text": [
      "[[15  0]\n",
      " [ 9  0]]\n"
     ]
    }
   ],
   "source": [
    "from sklearn.metrics import confusion_matrix\n",
    "\n",
    "# Assume y_true and y_pred are the true and predicted labels, respectively\n",
    "y_true = test_labels\n",
    "y_pred = y_test\n",
    "\n",
    "# Get the confusion matrix\n",
    "cm = confusion_matrix(y_true, y_pred)\n",
    "print(cm)\n"
   ]
  },
  {
   "cell_type": "code",
   "execution_count": 13,
   "metadata": {},
   "outputs": [
    {
     "name": "stdout",
     "output_type": "stream",
     "text": [
      "Class 1\n",
      "True Positives (TP):  15\n",
      "True Negatives (TN):  0\n",
      "False Positives (FP):  9\n",
      "False Negatives (FN):  0\n",
      "Class 2\n",
      "True Positives (TP):  0\n",
      "True Negatives (TN):  15\n",
      "False Positives (FP):  0\n",
      "False Negatives (FN):  9\n"
     ]
    }
   ],
   "source": [
    "# Loop over the rows and columns of the confusion matrix to extract TP, TN, FP, and FN numbers for each class\n",
    "for i in range(len(cm)):\n",
    "    tp = cm[i,i]\n",
    "    fp = sum(cm[:,i]) - tp\n",
    "    fn = sum(cm[i,:]) - tp\n",
    "    tn = sum(sum(cm)) - tp - fp - fn\n",
    "    \n",
    "    print(f\"Class {i+1}\")\n",
    "    print(\"True Positives (TP): \", tp)\n",
    "    print(\"True Negatives (TN): \", tn)\n",
    "    print(\"False Positives (FP): \", fp)\n",
    "    print(\"False Negatives (FN): \", fn)"
   ]
  },
  {
   "cell_type": "code",
   "execution_count": 14,
   "metadata": {},
   "outputs": [
    {
     "name": "stdout",
     "output_type": "stream",
     "text": [
      "              precision    recall  f1-score   support\n",
      "\n",
      "           0     0.6250    1.0000    0.7692        15\n",
      "           1     0.0000    0.0000    0.0000         9\n",
      "\n",
      "    accuracy                         0.6250        24\n",
      "   macro avg     0.3125    0.5000    0.3846        24\n",
      "weighted avg     0.3906    0.6250    0.4808        24\n",
      "\n"
     ]
    },
    {
     "name": "stderr",
     "output_type": "stream",
     "text": [
      "c:\\Users\\Abhay Gupta\\AppData\\Local\\Programs\\Python\\Python310\\lib\\site-packages\\sklearn\\metrics\\_classification.py:1344: UndefinedMetricWarning: Precision and F-score are ill-defined and being set to 0.0 in labels with no predicted samples. Use `zero_division` parameter to control this behavior.\n",
      "  _warn_prf(average, modifier, msg_start, len(result))\n",
      "c:\\Users\\Abhay Gupta\\AppData\\Local\\Programs\\Python\\Python310\\lib\\site-packages\\sklearn\\metrics\\_classification.py:1344: UndefinedMetricWarning: Precision and F-score are ill-defined and being set to 0.0 in labels with no predicted samples. Use `zero_division` parameter to control this behavior.\n",
      "  _warn_prf(average, modifier, msg_start, len(result))\n",
      "c:\\Users\\Abhay Gupta\\AppData\\Local\\Programs\\Python\\Python310\\lib\\site-packages\\sklearn\\metrics\\_classification.py:1344: UndefinedMetricWarning: Precision and F-score are ill-defined and being set to 0.0 in labels with no predicted samples. Use `zero_division` parameter to control this behavior.\n",
      "  _warn_prf(average, modifier, msg_start, len(result))\n"
     ]
    }
   ],
   "source": [
    "from sklearn.metrics import classification_report\n",
    "\n",
    "# Get the classification report\n",
    "cr = classification_report(y_true, y_pred, digits=4)\n",
    "\n",
    "print(cr)"
   ]
  },
  {
   "cell_type": "code",
   "execution_count": null,
   "metadata": {},
   "outputs": [],
   "source": []
  }
 ],
 "metadata": {
  "kernelspec": {
   "display_name": "Python 3",
   "language": "python",
   "name": "python3"
  },
  "language_info": {
   "codemirror_mode": {
    "name": "ipython",
    "version": 3
   },
   "file_extension": ".py",
   "mimetype": "text/x-python",
   "name": "python",
   "nbconvert_exporter": "python",
   "pygments_lexer": "ipython3",
   "version": "3.10.3"
  },
  "orig_nbformat": 4
 },
 "nbformat": 4,
 "nbformat_minor": 2
}
